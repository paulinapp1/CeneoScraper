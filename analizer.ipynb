{
 "cells": [
  {
   "cell_type": "markdown",
   "metadata": {},
   "source": [
    "# Ceneo Analyzer"
   ]
  },
  {
   "cell_type": "markdown",
   "metadata": {},
   "source": [
    "## Załadowanie Bibliotek"
   ]
  },
  {
   "cell_type": "code",
   "execution_count": null,
   "metadata": {},
   "outputs": [],
   "source": [
    "import os\n",
    "import pandas as pd \n",
    "import numpy as np\n",
    "from matplotlib import pyplot as plt"
   ]
  },
  {
   "cell_type": "markdown",
   "metadata": {},
   "source": [
    "## Lista kodów produktów, o których zostały pobrane opinie"
   ]
  },
  {
   "cell_type": "code",
   "execution_count": null,
   "metadata": {},
   "outputs": [],
   "source": [
    "print(*[filename.split(\".\")[0] for filename in os.listdir(\"opinions\")], sep=\"\\n\")"
   ]
  },
  {
   "cell_type": "markdown",
   "metadata": {},
   "source": [
    "## Wczytanie od użytkownika kodu produktu dla którego ma zostać przeprowadzona analiza"
   ]
  },
  {
   "cell_type": "code",
   "execution_count": null,
   "metadata": {},
   "outputs": [],
   "source": [
    "product_id=input(\"Podaj kod produktu: \")"
   ]
  },
  {
   "cell_type": "markdown",
   "metadata": {},
   "source": [
    "## Wczytanie do obiektu pandas.DataFrame opini o produkcie o podanym kodzie"
   ]
  },
  {
   "cell_type": "code",
   "execution_count": null,
   "metadata": {},
   "outputs": [],
   "source": [
    "opinions=pd.read_json(f\"opinions/{product_id}.json\")\n",
    "opinions.stars=opinions.stars.apply(lambda s: s.split(\"/\")[0].replace(\",\",\".\")).astype(float)\n",
    "opinions.recommendation= opinions.recommendation.apply(lambda r: \"Brak rekomendacji\" if r is None else r )"
   ]
  },
  {
   "cell_type": "code",
   "execution_count": null,
   "metadata": {},
   "outputs": [],
   "source": [
    "opinions"
   ]
  },
  {
   "cell_type": "markdown",
   "metadata": {},
   "source": [
    "## Podstawowe statystyki "
   ]
  },
  {
   "cell_type": "code",
   "execution_count": null,
   "metadata": {},
   "outputs": [],
   "source": [
    "opinions_count = opinions.shape[0]\n",
    "pros_count = opinions.pros.apply(lambda p: None if not p else p).count()\n",
    "cons_count = opinions.cons.apply(lambda c: None if not c else c).count()\n",
    "average_stars = opinions.stars.mean()\n"
   ]
  },
  {
   "cell_type": "markdown",
   "metadata": {},
   "source": [
    "## Histogram częstości poszczególnych ocen produktów"
   ]
  },
  {
   "cell_type": "code",
   "execution_count": null,
   "metadata": {},
   "outputs": [],
   "source": [
    "stars_distribution= opinions.stars.value_counts().reindex(list(np.arange(0,5.5,0.5)),fill_value=0)\n",
    "stars_distribution"
   ]
  },
  {
   "cell_type": "code",
   "execution_count": null,
   "metadata": {},
   "outputs": [],
   "source": [
    "stars_distribution.plot.bar(color=\"lightpink\")\n",
    "plt.title(\"Histogram częstości gwiazdek w opiniach\")\n",
    "plt.xlabel(\"Liczba gwiazdek\")\n",
    "plt.ylabel(\"Liczba opinii\")\n",
    "plt.xticks(rotation=0)"
   ]
  },
  {
   "cell_type": "markdown",
   "metadata": {},
   "source": [
    "## Udział poszczególnych rekomendacji w ogólnej liczbie opinii"
   ]
  },
  {
   "cell_type": "code",
   "execution_count": null,
   "metadata": {},
   "outputs": [],
   "source": [
    "recommendations_distribution=opinions.recommendation.value_counts(dropna=False).reindex([\"Polecam\",\"Brak rekomendacji\", \"Nie polecam\"], fill_value=0)\n",
    "recommendations_distribution"
   ]
  },
  {
   "cell_type": "code",
   "execution_count": null,
   "metadata": {},
   "outputs": [],
   "source": [
    "recommendations_distribution.plot.pie(\n",
    "    colors= [\"lightgreen\",\"powderblue\",\"lightpink\"],\n",
    "    label=\"\",\n",
    "    autopct= \"%1.1f%%\"\n",
    ")\n",
    "plt.title(\"Udział rekomendacji w opiniach\")\n"
   ]
  }
 ],
 "metadata": {
  "kernelspec": {
   "display_name": ".venv",
   "language": "python",
   "name": "python3"
  },
  "language_info": {
   "codemirror_mode": {
    "name": "ipython",
    "version": 3
   },
   "file_extension": ".py",
   "mimetype": "text/x-python",
   "name": "python",
   "nbconvert_exporter": "python",
   "pygments_lexer": "ipython3",
   "version": "3.11.9"
  }
 },
 "nbformat": 4,
 "nbformat_minor": 2
}

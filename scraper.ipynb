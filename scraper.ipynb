{
 "cells": [
  {
   "cell_type": "markdown",
   "metadata": {},
   "source": [
    "# CeneoScraper\n"
   ]
  },
  {
   "cell_type": "markdown",
   "metadata": {},
   "source": [
    "## Struktura pojedynczej opinii \n",
    "|Składowa|Selektor|Zmienna|\n",
    "|--------|--------|-------|\n",
    "|id opinii|[\"data-entry-id\"] |opinion_id|\n",
    "|autor|span.user-post__author-name|author|\n",
    "|rekomendacja|span.user-post__author-recomendation|recommendation|\n",
    "|gwiazdki|span.user-post__score-count |stars|\n",
    "|treść|div.user-post__text |contents|\n",
    "|lista zalet|div.review-feature__title review-feature__title--positives ~ div.review-feature__item| pros|\n",
    "|lista wad|div.review-feature__title review-feature__title--negatives ~ div.review-feature__item |cons |\n",
    "|dla ilu przydatne|button.vote-yes > span |helpful |\n",
    "|dla ilu nieprzydatne|button.vote-no > span |unhelpful |\n",
    "|data wystawienia|span.user-post__published > time:nth-child(1)[\"datetime]|publish_date|\n",
    "|data zakupu|span.user-post__published > time:nth-child(2)[\"datetime] |purchase_date |"
   ]
  },
  {
   "cell_type": "markdown",
   "metadata": {},
   "source": [
    "### Załadowanie bibliotek"
   ]
  },
  {
   "cell_type": "code",
   "execution_count": 1,
   "metadata": {},
   "outputs": [],
   "source": [
    "import requests\n",
    "from bs4 import BeautifulSoup\n",
    "import json\n",
    "import os"
   ]
  },
  {
   "cell_type": "markdown",
   "metadata": {},
   "source": [
    "## Funkcja"
   ]
  },
  {
   "cell_type": "code",
   "execution_count": 22,
   "metadata": {},
   "outputs": [],
   "source": [
    "def extract(ancestor,selector=None, attribute=None, return_list=False):\n",
    "  if selector:\n",
    "    if return_list:\n",
    "      if attribute:\n",
    "        return [tag[attribute].strip() for tag in ancestor.select(selector)],\n",
    "      return [tag.text.strip() for tag in ancestor.select(selector)],\n",
    "    if attribute:\n",
    "      try:\n",
    "        return  ancestor.select_one(selector)[attribute].strip()\n",
    "      except TypeError:\n",
    "        return None\n",
    "      try:\n",
    "        return  ancestor.select_one(selector).text.strip()\n",
    "      except AttributeError:\n",
    "        return None\n",
    "  if attribute:\n",
    "    return ancestor[attribute].strip()\n",
    "  return ancestor.select_one(selector).text.strip()\n",
    "\n",
    "\n",
    "\n",
    "\n",
    "\n",
    "    "
   ]
  },
  {
   "cell_type": "markdown",
   "metadata": {},
   "source": [
    "## Selektory składowych opinii\n"
   ]
  },
  {
   "cell_type": "code",
   "execution_count": 23,
   "metadata": {},
   "outputs": [],
   "source": [
    "selectors={\n",
    "    \"opinion_id\":(None,\"data-entry-id\"),\n",
    "    \"author\":(\"span.user-post__author-name\",),\n",
    "    \"recommendation\":(\"span.user-post__author-recomendation\"),\n",
    "    \"stars\":(\"span.user-post__score-count\",),\n",
    "    \"contents\":(\"div.user-post__text\",),\n",
    "    \"pros\":(\"div.review-feature__title--positives ~ div.review-feature__item\",None,True),\n",
    "    \"cons\":(\"div.review-feature__title--negatives ~ div.review-feature__item\", None,True),\n",
    "    \"helpful\":(\"button.vote-yes > span\",),\n",
    "    \"unhelpful\":(\"button.vote-no > span\",),\n",
    "    \"publish_date\":(\"span.user-post__published > time:nth-child(1)[datetime]\",\"datetime\"),\n",
    "    \"purchase_date\":(\"span.user-post__published > time:nth-child(2)[datetime]\",\"datetime\")\n",
    "\n",
    "        }"
   ]
  },
  {
   "cell_type": "markdown",
   "metadata": {},
   "source": [
    "### Adres URL pierwszej strony z opiniami o produkcie\n",
    "\n"
   ]
  },
  {
   "cell_type": "code",
   "execution_count": 24,
   "metadata": {},
   "outputs": [],
   "source": [
    "product_id= \"39562616\"\n",
    "url = f\"https://www.ceneo.pl/{product_id}#tab=reviews_scroll\"\n",
    "\n"
   ]
  },
  {
   "cell_type": "markdown",
   "metadata": {},
   "source": [
    "## Pobranie  wszystkich opinii o produkcie z kodu HTML strony"
   ]
  },
  {
   "cell_type": "code",
   "execution_count": 25,
   "metadata": {},
   "outputs": [
    {
     "ename": "TypeError",
     "evalue": "extract() takes from 1 to 4 positional arguments but 37 were given",
     "output_type": "error",
     "traceback": [
      "\u001b[1;31m---------------------------------------------------------------------------\u001b[0m",
      "\u001b[1;31mTypeError\u001b[0m                                 Traceback (most recent call last)",
      "Cell \u001b[1;32mIn[25], line 7\u001b[0m\n\u001b[0;32m      5\u001b[0m opinions \u001b[38;5;241m=\u001b[39m page_dom\u001b[38;5;241m.\u001b[39mselect(\u001b[38;5;124m\"\u001b[39m\u001b[38;5;124mdiv.js_product-review\u001b[39m\u001b[38;5;124m\"\u001b[39m)\n\u001b[0;32m      6\u001b[0m \u001b[38;5;28;01mfor\u001b[39;00m opinion \u001b[38;5;129;01min\u001b[39;00m opinions:\n\u001b[1;32m----> 7\u001b[0m     single_opinion\u001b[38;5;241m=\u001b[39m\u001b[43m{\u001b[49m\n\u001b[0;32m      8\u001b[0m \u001b[43m        \u001b[49m\u001b[43mkey\u001b[49m\u001b[43m:\u001b[49m\u001b[43m \u001b[49m\u001b[43mextract\u001b[49m\u001b[43m(\u001b[49m\u001b[43mopinion\u001b[49m\u001b[43m,\u001b[49m\u001b[43m \u001b[49m\u001b[38;5;241;43m*\u001b[39;49m\u001b[43mvalue\u001b[49m\u001b[43m)\u001b[49m\n\u001b[0;32m      9\u001b[0m \u001b[43m            \u001b[49m\u001b[38;5;28;43;01mfor\u001b[39;49;00m\u001b[43m \u001b[49m\u001b[43mkey\u001b[49m\u001b[43m,\u001b[49m\u001b[43m \u001b[49m\u001b[43mvalue\u001b[49m\u001b[43m \u001b[49m\u001b[38;5;129;43;01min\u001b[39;49;00m\u001b[43m \u001b[49m\u001b[43mselectors\u001b[49m\u001b[38;5;241;43m.\u001b[39;49m\u001b[43mitems\u001b[49m\u001b[43m(\u001b[49m\u001b[43m)\u001b[49m\n\u001b[0;32m     10\u001b[0m \u001b[43m    \u001b[49m\u001b[43m}\u001b[49m\n\u001b[0;32m     11\u001b[0m     all_opinions\u001b[38;5;241m.\u001b[39mappend(single_opinion)\n\u001b[0;32m     12\u001b[0m \u001b[38;5;28;01mtry\u001b[39;00m:\n",
      "Cell \u001b[1;32mIn[25], line 8\u001b[0m, in \u001b[0;36m<dictcomp>\u001b[1;34m(.0)\u001b[0m\n\u001b[0;32m      5\u001b[0m opinions \u001b[38;5;241m=\u001b[39m page_dom\u001b[38;5;241m.\u001b[39mselect(\u001b[38;5;124m\"\u001b[39m\u001b[38;5;124mdiv.js_product-review\u001b[39m\u001b[38;5;124m\"\u001b[39m)\n\u001b[0;32m      6\u001b[0m \u001b[38;5;28;01mfor\u001b[39;00m opinion \u001b[38;5;129;01min\u001b[39;00m opinions:\n\u001b[0;32m      7\u001b[0m     single_opinion\u001b[38;5;241m=\u001b[39m{\n\u001b[1;32m----> 8\u001b[0m         key: \u001b[43mextract\u001b[49m\u001b[43m(\u001b[49m\u001b[43mopinion\u001b[49m\u001b[43m,\u001b[49m\u001b[43m \u001b[49m\u001b[38;5;241;43m*\u001b[39;49m\u001b[43mvalue\u001b[49m\u001b[43m)\u001b[49m\n\u001b[0;32m      9\u001b[0m             \u001b[38;5;28;01mfor\u001b[39;00m key, value \u001b[38;5;129;01min\u001b[39;00m selectors\u001b[38;5;241m.\u001b[39mitems()\n\u001b[0;32m     10\u001b[0m     }\n\u001b[0;32m     11\u001b[0m     all_opinions\u001b[38;5;241m.\u001b[39mappend(single_opinion)\n\u001b[0;32m     12\u001b[0m \u001b[38;5;28;01mtry\u001b[39;00m:\n",
      "\u001b[1;31mTypeError\u001b[0m: extract() takes from 1 to 4 positional arguments but 37 were given"
     ]
    }
   ],
   "source": [
    "all_opinions=[]\n",
    "while(url):\n",
    "    response = requests.get(url)\n",
    "    page_dom = BeautifulSoup(response.text, \"html.parser\")\n",
    "    opinions = page_dom.select(\"div.js_product-review\")\n",
    "    for opinion in opinions:\n",
    "        single_opinion={\n",
    "            key: extract(opinion, *value)\n",
    "                for key, value in selectors.items()\n",
    "        }\n",
    "        all_opinions.append(single_opinion)\n",
    "    try:\n",
    "        url = \"https://www.ceneo.pl/\"+page_dom.select_one(\"a.pagination__next\")[\"href\"].strip()\n",
    "    except TypeError: url= None\n",
    "print(url)\n"
   ]
  },
  {
   "cell_type": "markdown",
   "metadata": {},
   "source": [
    "## Zapis opinii o produkcie do pliku JSON"
   ]
  },
  {
   "cell_type": "code",
   "execution_count": 12,
   "metadata": {},
   "outputs": [],
   "source": [
    "if not os.path.exists(\"opinions\"):\n",
    "    os.makedirs(\"opinions\")\n",
    "with open(f\"opinions/{product_id}.json\", \"w\", encoding=\"UTF-8\") as jf:\n",
    "    json.dump(all_opinions,jf, indent=4, ensure_ascii=False)\n",
    " \n"
   ]
  }
 ],
 "metadata": {
  "kernelspec": {
   "display_name": ".venv",
   "language": "python",
   "name": "python3"
  },
  "language_info": {
   "codemirror_mode": {
    "name": "ipython",
    "version": 3
   },
   "file_extension": ".py",
   "mimetype": "text/x-python",
   "name": "python",
   "nbconvert_exporter": "python",
   "pygments_lexer": "ipython3",
   "version": "3.11.9"
  }
 },
 "nbformat": 4,
 "nbformat_minor": 2
}

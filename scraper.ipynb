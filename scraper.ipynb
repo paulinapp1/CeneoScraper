{
 "cells": [
  {
   "cell_type": "markdown",
   "metadata": {},
   "source": [
    "# CeneoScraper\n"
   ]
  },
  {
   "cell_type": "markdown",
   "metadata": {},
   "source": [
    "## Struktura pojedynczej opinii \n",
    "|Składowa|Selektor|Zmienna|\n",
    "|--------|--------|-------|\n",
    "|id opinii|[\"data-entry-id\"] |opinion_id|\n",
    "|autor|span.user-post__author-name|author|\n",
    "|rekomendacja|span.user-post__author-recomendation|recommendation|\n",
    "|gwiazdki|span.user-post__score-count |stars|\n",
    "|treść|div.user-post__text |contents|\n",
    "|lista zalet|div.review-feature__title review-feature__title--positives ~ div.review-feature__item| pros|\n",
    "|lista wad|div.review-feature__title review-feature__title--negatives ~ div.review-feature__item |cons |\n",
    "|dla ilu przydatne|button.vote-yes > span |helpful |\n",
    "|dla ilu nieprzydatne|button.vote-no > span |unhelpful |\n",
    "|data wystawienia|span.user-post__published > time:nth-child(1)[\"datetime]|publish_date|\n",
    "|data zakupu|span.user-post__published > time:nth-child(2)[\"datetime] |purchase_date |"
   ]
  },
  {
   "cell_type": "markdown",
   "metadata": {},
   "source": [
    "### Załadowanie bibliotek"
   ]
  },
  {
   "cell_type": "code",
   "execution_count": null,
   "metadata": {},
   "outputs": [],
   "source": [
    "import requests\n",
    "from bs4 import BeautifulSoup\n",
    "import json\n",
    "import os"
   ]
  },
  {
   "cell_type": "markdown",
   "metadata": {},
   "source": [
    "### Adres URL pierwszej strony z opiniami o produkcie\n",
    "\n"
   ]
  },
  {
   "cell_type": "code",
   "execution_count": null,
   "metadata": {},
   "outputs": [],
   "source": [
    "product_id= \"138331381\"\n",
    "url = f\"https://www.ceneo.pl/{product_id}#tab=reviews_scroll\"\n",
    "\n"
   ]
  },
  {
   "cell_type": "markdown",
   "metadata": {},
   "source": [
    "## Pobranie  wszystkich opinii o produkcie z kodu HTML strony"
   ]
  },
  {
   "cell_type": "code",
   "execution_count": null,
   "metadata": {},
   "outputs": [],
   "source": [
    "all_opinions=[]\n",
    "while(url):\n",
    "    response = requests.get(url)\n",
    "    page_dom = BeautifulSoup(response.text, \"html.parser\")\n",
    "    opinions = page_dom.select(\"div.js_product-review\")\n",
    "    for opinion in opinions:\n",
    "        single_opinion={\n",
    "            \"opinion_id\":opinion[\"data-entry-id\"],\n",
    "            \"author\":opinion.select_one(\"span.user-post__author-name\").text.strip(),\n",
    "            \"recommendation\":opinion.select_one(\"span.user-post__author-recomendation\").text.strip(),\n",
    "            \"stars\":opinion.select_one(\"span.user-post__score-count\").text.strip(),\n",
    "            \"contents\":opinion.select_one(\"div.user-post__text\").text.strip(),\n",
    "            \"pros\":[p.text.strip() for p in opinion.select(\"div.review-feature__title--positives ~ div.review-feature__item\")],\n",
    "            \"cons\":[c.text.strip() for c in opinion.select(\"div.review-feature__title--negatives ~ div.review-feature__item\")],\n",
    "            \"helpful\":opinion.select_one(\"button.vote-yes > span\").text.strip(),\n",
    "            \"unhelpful\":opinion.select_one(\"button.vote-no > span\").text.strip(),\n",
    "            \"publish_date\":opinion.select_one(\"span.user-post__published > time:nth-child(1)[datetime]\")[\"datetime\"].strip(),\n",
    "            \"purchase_date\":opinion.select_one(\"span.user-post__published > time:nth-child(2)[datetime]\")[\"datetime\"].strip()\n",
    "\n",
    "        }\n",
    "        all_opinions.append(single_opinion)\n",
    "    try:\n",
    "        url = \"https://www.ceneo.pl/\"+page_dom.select_one(\"a.pagination__next\")[\"href\"].strip()\n",
    "    except TypeError: url= None\n",
    "print(url)\n"
   ]
  },
  {
   "cell_type": "markdown",
   "metadata": {},
   "source": [
    "## Zapis opinii o produkcie do pliku JSON"
   ]
  },
  {
   "cell_type": "code",
   "execution_count": null,
   "metadata": {},
   "outputs": [],
   "source": [
    "if not os.path.exists(\"opinions\"):\n",
    "    os.makedirs(\"opinions\")\n",
    "with open(f\"opinions/{product_id}.json\", \"w\", encoding=\"UTF-8\") as jf:\n",
    "    json.dump(all_opinions,jf, indent=4, ensure_ascii=False)\n",
    " \n"
   ]
  }
 ],
 "metadata": {
  "kernelspec": {
   "display_name": ".venv",
   "language": "python",
   "name": "python3"
  },
  "language_info": {
   "codemirror_mode": {
    "name": "ipython",
    "version": 3
   },
   "file_extension": ".py",
   "mimetype": "text/x-python",
   "name": "python",
   "nbconvert_exporter": "python",
   "pygments_lexer": "ipython3",
   "version": "3.11.9"
  }
 },
 "nbformat": 4,
 "nbformat_minor": 2
}

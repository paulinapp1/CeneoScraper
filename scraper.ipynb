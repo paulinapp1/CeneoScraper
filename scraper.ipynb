{
 "cells": [
  {
   "cell_type": "markdown",
   "metadata": {},
   "source": [
    "# CeneoScraper\n"
   ]
  },
  {
   "cell_type": "markdown",
   "metadata": {},
   "source": [
    "### Załadowanie bibliotek"
   ]
  },
  {
   "cell_type": "code",
   "execution_count": null,
   "metadata": {},
   "outputs": [],
   "source": [
    "import requests\n",
    "from bs4 import BeautifulSoup"
   ]
  },
  {
   "cell_type": "markdown",
   "metadata": {},
   "source": [
    "### Wysłanie zapytania do serwera\n"
   ]
  },
  {
   "cell_type": "code",
   "execution_count": null,
   "metadata": {},
   "outputs": [],
   "source": [
    "product_id= \"138331381\"\n",
    "url = f\"https://www.ceneo.pl/{product_id}#tab=reviews_scroll\"\n",
    "response = requests.get(url)\n"
   ]
  },
  {
   "cell_type": "markdown",
   "metadata": {},
   "source": [
    "## Pobranie opinii z kodu HTML strony"
   ]
  },
  {
   "cell_type": "code",
   "execution_count": null,
   "metadata": {},
   "outputs": [],
   "source": [
    "page_dom = BeautifulSoup(response.text, \"html.parser\")\n",
    "print(type(page_dom))\n",
    "opinions = page_dom.select(\"div.js_product-review\")\n",
    "print(type(opinions))\n",
    "opinion=opinions.pop(0)\n",
    "print(type(opinion))"
   ]
  },
  {
   "cell_type": "code",
   "execution_count": null,
   "metadata": {},
   "outputs": [],
   "source": [
    "print(opinion)"
   ]
  },
  {
   "cell_type": "markdown",
   "metadata": {},
   "source": [
    "## Ekstrakcja składowych pojedynczej opinii \n",
    "|Składowa|Selektor|Zmienna|\n",
    "|--------|--------|-------|\n",
    "|id opinii|[\"data-entry-id\"] |opinion_id|\n",
    "|autor|span.user-post__author-name|author|\n",
    "|rekomendacja|span.user-post__author-recomendation|recommendation|\n",
    "|gwiazdki|span.user-post__score-count |stars|\n",
    "|treść|div.user-post__text |contents|\n",
    "|lista zalet|div.review-feature__title review-feature__title--positives ~ div.review-feature__item| pros|\n",
    "|lista wad|div.review-feature__title review-feature__title--negatives ~ div.review-feature__item |cons |\n",
    "|dla ilu przydatne|button.vote-yes > span |helpful |\n",
    "|dla ilu nieprzydatne|button.vote-no > span |unhelpful |\n",
    "|data wystawienia|span.user-post__published > time:nth-child(1)[\"datetime]|publish_date|\n",
    "|data zakupu|span.user-post__published > time:nth-child(2)[\"datetime] |purchase_date |"
   ]
  },
  {
   "cell_type": "code",
   "execution_count": null,
   "metadata": {},
   "outputs": [],
   "source": [
    "opinion_id=opinion[\"data-entry-id\"]\n",
    "author=opinion.select_one(\"span.user-post__author-name\")\n",
    "recommendation=opinion.select_one(\"span.user-post__author-recomendation\")\n",
    "stars=opinion.select_one(\"span.user-post__score-count\")\n",
    "contents=opinion.select_one(\"div.user-post__text\")\n",
    "pros=opinion.select(\"div.review-feature__title--positives ~ div.review-feature__item\")\n",
    "cons=opinion.select(\"div.review-feature__title--negatives ~ div.review-feature__item\")\n",
    "helpful=opinion.select_one(\"button.vote-yes > span\")\n",
    "unhelpful=opinion.select_one(\"button.vote-no > span\")\n",
    "publish_date=opinion.select_one(\"span.user-post__published > time:nth-child(1)[datetime]\")\n",
    "purchase_date=opinion.select_one(\"span.user-post__published > time:nth-child(2)[datetime]\")"
   ]
  }
 ],
 "metadata": {
  "kernelspec": {
   "display_name": ".venv",
   "language": "python",
   "name": "python3"
  },
  "language_info": {
   "codemirror_mode": {
    "name": "ipython",
    "version": 3
   },
   "file_extension": ".py",
   "mimetype": "text/x-python",
   "name": "python",
   "nbconvert_exporter": "python",
   "pygments_lexer": "ipython3",
   "version": "3.11.9"
  }
 },
 "nbformat": 4,
 "nbformat_minor": 2
}
